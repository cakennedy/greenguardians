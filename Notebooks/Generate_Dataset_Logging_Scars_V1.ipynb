{
  "nbformat": 4,
  "nbformat_minor": 0,
  "metadata": {
    "colab": {
      "provenance": []
    },
    "kernelspec": {
      "name": "python3",
      "display_name": "Python 3"
    },
    "language_info": {
      "name": "python"
    }
  },
  "cells": [
    {
      "cell_type": "markdown",
      "source": [
        "# Intro\n",
        "This notebook is used to generate a labeled logging scars dataset. The data is hand labeled by our team using geojson.io.\n",
        "\n",
        "## Installing packages"
      ],
      "metadata": {
        "id": "LMTxQ-vR3_Xl"
      }
    },
    {
      "cell_type": "code",
      "execution_count": 1,
      "metadata": {
        "colab": {
          "base_uri": "https://localhost:8080/"
        },
        "id": "Se2pibsezdC0",
        "outputId": "2f9f05b5-9f93-48c0-f06a-4c19a90f3989"
      },
      "outputs": [
        {
          "output_type": "stream",
          "name": "stdout",
          "text": [
            "\u001b[2K     \u001b[90m━━━━━━━━━━━━━━━━━━━━━━━━━━━━━━━━━━━━━━━━\u001b[0m \u001b[32m2.2/2.2 MB\u001b[0m \u001b[31m24.3 MB/s\u001b[0m eta \u001b[36m0:00:00\u001b[0m\n",
            "\u001b[2K     \u001b[90m━━━━━━━━━━━━━━━━━━━━━━━━━━━━━━━━━━━━━━━━\u001b[0m \u001b[32m1.2/1.2 MB\u001b[0m \u001b[31m58.4 MB/s\u001b[0m eta \u001b[36m0:00:00\u001b[0m\n",
            "\u001b[2K     \u001b[90m━━━━━━━━━━━━━━━━━━━━━━━━━━━━━━━━━━━━━━━━\u001b[0m \u001b[32m98.6/98.6 kB\u001b[0m \u001b[31m9.8 MB/s\u001b[0m eta \u001b[36m0:00:00\u001b[0m\n",
            "\u001b[2K     \u001b[90m━━━━━━━━━━━━━━━━━━━━━━━━━━━━━━━━━━━━━━\u001b[0m \u001b[32m130.5/130.5 kB\u001b[0m \u001b[31m12.9 MB/s\u001b[0m eta \u001b[36m0:00:00\u001b[0m\n",
            "\u001b[2K     \u001b[90m━━━━━━━━━━━━━━━━━━━━━━━━━━━━━━━━━━━━━━━━\u001b[0m \u001b[32m3.4/3.4 MB\u001b[0m \u001b[31m65.0 MB/s\u001b[0m eta \u001b[36m0:00:00\u001b[0m\n",
            "\u001b[2K     \u001b[90m━━━━━━━━━━━━━━━━━━━━━━━━━━━━━━━━━━━━━━━━\u001b[0m \u001b[32m1.3/1.3 MB\u001b[0m \u001b[31m63.2 MB/s\u001b[0m eta \u001b[36m0:00:00\u001b[0m\n",
            "\u001b[?25h  Preparing metadata (setup.py) ... \u001b[?25l\u001b[?25hdone\n",
            "\u001b[2K     \u001b[90m━━━━━━━━━━━━━━━━━━━━━━━━━━━━━━━━━━━━━━━━\u001b[0m \u001b[32m46.5/46.5 kB\u001b[0m \u001b[31m4.7 MB/s\u001b[0m eta \u001b[36m0:00:00\u001b[0m\n",
            "\u001b[2K     \u001b[90m━━━━━━━━━━━━━━━━━━━━━━━━━━━━━━━━━━━━━━━━\u001b[0m \u001b[32m3.2/3.2 MB\u001b[0m \u001b[31m79.1 MB/s\u001b[0m eta \u001b[36m0:00:00\u001b[0m\n",
            "\u001b[2K     \u001b[90m━━━━━━━━━━━━━━━━━━━━━━━━━━━━━━━━━━━━━━━━\u001b[0m \u001b[32m56.5/56.5 kB\u001b[0m \u001b[31m5.7 MB/s\u001b[0m eta \u001b[36m0:00:00\u001b[0m\n",
            "\u001b[2K     \u001b[90m━━━━━━━━━━━━━━━━━━━━━━━━━━━━━━━━━━━━━━━━\u001b[0m \u001b[32m1.6/1.6 MB\u001b[0m \u001b[31m62.7 MB/s\u001b[0m eta \u001b[36m0:00:00\u001b[0m\n",
            "\u001b[?25h  Building wheel for pyperclip (setup.py) ... \u001b[?25l\u001b[?25hdone\n",
            "\u001b[2K     \u001b[90m━━━━━━━━━━━━━━━━━━━━━━━━━━━━━━━━━━━━━━━━\u001b[0m \u001b[32m98.7/98.7 kB\u001b[0m \u001b[31m3.4 MB/s\u001b[0m eta \u001b[36m0:00:00\u001b[0m\n",
            "\u001b[2K     \u001b[90m━━━━━━━━━━━━━━━━━━━━━━━━━━━━━━━━━━━━━━━━\u001b[0m \u001b[32m21.3/21.3 MB\u001b[0m \u001b[31m41.4 MB/s\u001b[0m eta \u001b[36m0:00:00\u001b[0m\n",
            "\u001b[?25h"
          ]
        }
      ],
      "source": [
        "!pip install -q geemap\n",
        "!pip install -q retry\n",
        "!pip install -q rasterio\n",
        "!pip install -q shapely\n",
        "!pip install -q geopandas"
      ]
    },
    {
      "cell_type": "markdown",
      "source": [
        "## Importing Libraries"
      ],
      "metadata": {
        "id": "YMcwxCoL4o0w"
      }
    },
    {
      "cell_type": "code",
      "source": [
        "import ee\n",
        "import rasterio\n",
        "import numpy as np\n",
        "from rasterio.windows import Window\n",
        "import time\n",
        "import pandas as pd\n",
        "import matplotlib.pyplot as plt\n",
        "from osgeo import gdal\n",
        "import os\n",
        "from os.path import isfile, join\n",
        "import geopandas as gpd\n",
        "from rasterio.features import geometry_mask\n",
        "import os\n",
        "import pyarrow as pa\n",
        "import pyarrow.parquet as pq\n",
        "import json\n",
        "from shapely.geometry import shape, MultiPolygon\n",
        "from geopy import Point\n",
        "from geopy.distance import geodesic\n",
        "\n",
        "from google.colab import drive"
      ],
      "metadata": {
        "id": "XzK3Gfuvz6Fz"
      },
      "execution_count": 2,
      "outputs": []
    },
    {
      "cell_type": "markdown",
      "source": [
        "## Setup GEE and Drive\n",
        "You need to connect to GEE to download sentinel-2 satellite images and to Google Drive to retrieve those satellite images and other files."
      ],
      "metadata": {
        "id": "oqZJBy8U4tJa"
      }
    },
    {
      "cell_type": "code",
      "source": [
        "drive.mount('/content/drive')\n",
        "\n",
        "# Authenticate to the Earth Engine servers\n",
        "try:\n",
        "    ee.Initialize()\n",
        "except Exception as e:\n",
        "    ee.Authenticate()\n",
        "    ee.Initialize()"
      ],
      "metadata": {
        "colab": {
          "base_uri": "https://localhost:8080/"
        },
        "id": "aohRqobk4vz5",
        "outputId": "2dfd5bba-2aa0-4126-fa06-9120c411f1fa"
      },
      "execution_count": 7,
      "outputs": [
        {
          "output_type": "stream",
          "name": "stdout",
          "text": [
            "Drive already mounted at /content/drive; to attempt to forcibly remount, call drive.mount(\"/content/drive\", force_remount=True).\n"
          ]
        }
      ]
    },
    {
      "cell_type": "markdown",
      "source": [
        "# Download Geojsons Data\n",
        "Download the geojsons data which is a label produced by our team. You will need to change the directory to reflect your working directory."
      ],
      "metadata": {
        "id": "d3TQOB_A34Li"
      }
    },
    {
      "cell_type": "code",
      "source": [
        "!cp -nr /content/drive/MyDrive/GreenGuardians/data/geojsons ."
      ],
      "metadata": {
        "id": "t1Hp5YB1z-Iz"
      },
      "execution_count": 8,
      "outputs": []
    },
    {
      "cell_type": "markdown",
      "source": [
        "# Download Image\n",
        "We download the satellite data for each location with at least a given diagonal distance. It will take some time to download all images. You can optionally turn off the export part if you already have the data and avoid the mistake of re-running it."
      ],
      "metadata": {
        "id": "RwdKowha3Lyf"
      }
    },
    {
      "cell_type": "code",
      "source": [
        "# You can disable exporting to avoid re-generating satellite images again and again\n",
        "disable_export = False\n",
        "distance = 400  # 362.04 meters for 256 px\n",
        "final_patch_size = 256\n",
        "image_prefix = 'scars'\n",
        "\n",
        "# List of locations to download satellite image\n",
        "locations = {\n",
        "    \"caribou-lake-710_1\": {\n",
        "        \"Longitude\": -89.07180431518495,\n",
        "        \"Latitude\": 50.26474654637079,\n",
        "        \"bearing\": 315\n",
        "    },\n",
        "    \"caribou-lake-710_2\": {\n",
        "        \"Longitude\": -89.0922648771783,\n",
        "        \"Latitude\": 50.2648353575554,\n",
        "        \"bearing\": 315\n",
        "    },\n",
        "    \"caribou-lake-708_1\": {\n",
        "        \"Longitude\": -89.11212491207844,\n",
        "        \"Latitude\": 50.27654183145796,\n",
        "        \"bearing\": 315\n",
        "    },\n",
        "    \"caribou-lake-701_1\": {\n",
        "        \"Longitude\": -89.2148123819986,\n",
        "        \"Latitude\": 50.459890567819855,\n",
        "        \"bearing\": 315\n",
        "    },\n",
        "    \"caribou-lake-702_1\": {\n",
        "        \"Longitude\": -89.2212951993255,\n",
        "        \"Latitude\": 50.45073363010053,\n",
        "        \"bearing\": 315\n",
        "    },\n",
        "    \"gibson-502_1\": {\n",
        "        \"Longitude\": -89.91218052883151,\n",
        "        \"Latitude\": 50.10632662287529,\n",
        "        \"bearing\": 225\n",
        "    },\n",
        "    \"hillside360_1\": {\n",
        "        \"Longitude\": -91.01160817534075,\n",
        "        \"Latitude\": 50.383020589810656,\n",
        "        \"bearing\": 315\n",
        "    },\n",
        "    \"hillside360_2\": {\n",
        "        \"Longitude\": -91.05272790875333,\n",
        "        \"Latitude\": 50.38292259524923,\n",
        "        \"bearing\": 45\n",
        "    },\n",
        "    \"hillside360_3\": {\n",
        "        \"Longitude\": -91.01160283511261,\n",
        "        \"Latitude\": 50.422466149813204,\n",
        "        \"bearing\": 225\n",
        "    },\n",
        "    \"hillside360_4\": {\n",
        "        \"Longitude\": -91.0244850289575,\n",
        "        \"Latitude\": 50.44797663658497,\n",
        "        \"bearing\": 135\n",
        "    },\n",
        "    \"hwy6424XX_1\": {\n",
        "        \"Longitude\": -91.49548037262977,\n",
        "        \"Latitude\": 49.88899955070093,\n",
        "        \"bearing\": 45\n",
        "    },\n",
        "    \"hwy6424XX_2\": {\n",
        "        \"Longitude\": -91.67051135755811,\n",
        "        \"Latitude\": 49.9154086831214,\n",
        "        \"bearing\": 45\n",
        "    },\n",
        "    \"hwy6424XX_3\": {\n",
        "        \"Longitude\": -91.63123211433263,\n",
        "        \"Latitude\": 49.940773818003834,\n",
        "        \"bearing\": 225\n",
        "    },\n",
        "    \"keershaw-503_1\": {\n",
        "        \"Longitude\": -90.00421792483466,\n",
        "        \"Latitude\": 49.85188270608046,\n",
        "        \"bearing\": 45\n",
        "    },\n",
        "    \"keershaw-504_1\": {\n",
        "        \"Longitude\": -89.86915213699602,\n",
        "        \"Latitude\": 49.89758643086071,\n",
        "        \"bearing\": 225\n",
        "    },\n",
        "    \"kiwi201_1\": {\n",
        "        \"Longitude\": -91.18163791726313,\n",
        "        \"Latitude\": 50.554278569030856,\n",
        "        \"bearing\": 225\n",
        "    },\n",
        "    \"lacseul010\": {\n",
        "        \"Longitude\": -91.51614531159406,\n",
        "        \"Latitude\": 50.631587126749025,\n",
        "        \"bearing\": 225\n",
        "    },\n",
        "    \"obonga-605\": {\n",
        "        \"Longitude\": -89.47640907598071,\n",
        "        \"Latitude\": 50.12663668435772,\n",
        "        \"bearing\": 45\n",
        "    },\n",
        "    \"trist101\": {\n",
        "        \"Longitude\": -91.10001522228801,\n",
        "        \"Latitude\": 50.86940938780839,\n",
        "        \"bearing\": 45\n",
        "    },\n",
        "    \"trist114_1\": {\n",
        "        \"Longitude\": -91.20102663691645,\n",
        "        \"Latitude\": 50.877626598945994,\n",
        "        \"bearing\": 45\n",
        "    },\n",
        "    \"trist114_2\": {\n",
        "        \"Longitude\": -91.16316907612344,\n",
        "        \"Latitude\": 50.87762238010532,\n",
        "        \"bearing\": 315\n",
        "    },\n",
        "    \"trist130_1\": {\n",
        "        \"Longitude\": -91.2411569764188,\n",
        "        \"Latitude\": 50.90624337484397,\n",
        "        \"bearing\": 315\n",
        "    },\n",
        "    \"watin401_1\": {\n",
        "        \"Longitude\": -91.2345854074319,\n",
        "        \"Latitude\": 50.27233819833512,\n",
        "        \"bearing\": 45\n",
        "    },\n",
        "    \"watin402_1\": {\n",
        "        \"Longitude\": -91.23122298152398,\n",
        "        \"Latitude\": 50.296070473364665,\n",
        "        \"bearing\": 45\n",
        "    },\n",
        "    \"Whitesand-805a_1\": {\n",
        "        \"Longitude\": -88.67804883458872,\n",
        "        \"Latitude\": 50.514464542040514,\n",
        "        \"bearing\": 45\n",
        "    },\n",
        "    \"Whitesand-804_1\": {\n",
        "        \"Longitude\": -88.75072886594884,\n",
        "        \"Latitude\": 50.53906802149277,\n",
        "        \"bearing\": 225\n",
        "    },\n",
        "    \"whitesand-805b_1\": {\n",
        "        \"Longitude\": -88.64642393435341,\n",
        "        \"Latitude\": 50.52669782402512,\n",
        "        \"bearing\": 135\n",
        "    }\n",
        "}\n",
        "\n",
        "loc_boxes = []\n",
        "# Building a list of rectangular shapes to be used as a region to download satellite images\n",
        "for name in locations:\n",
        "    start = Point(locations[name][\"Latitude\"], locations[name][\"Longitude\"])\n",
        "    bearing = locations[name][\"bearing\"]\n",
        "\n",
        "    # Calculate destination point\n",
        "    destination = geodesic(meters=distance*10).destination(point=start, bearing=bearing)\n",
        "\n",
        "    # Define points\n",
        "    point1 = ee.Geometry.Point([destination.longitude, destination.latitude])\n",
        "    point2 = ee.Geometry.Point([locations[name][\"Longitude\"], locations[name][\"Latitude\"]])\n",
        "\n",
        "    point1_coords = point1.coordinates()\n",
        "    point2_coords = point2.coordinates()\n",
        "\n",
        "    llx = min(point1_coords.get(0).getInfo(), point2_coords.get(0).getInfo())\n",
        "    lly = min(point1_coords.get(1).getInfo(), point2_coords.get(1).getInfo())\n",
        "    urx = max(point1_coords.get(0).getInfo(), point2_coords.get(0).getInfo())\n",
        "    ury = max(point1_coords.get(1).getInfo(), point2_coords.get(1).getInfo())\n",
        "\n",
        "    # Create a rectangle using the min and max points\n",
        "    rect = ee.Geometry.Rectangle([llx, lly, urx, ury])\n",
        "    loc_boxes.append([name, rect, bearing])\n",
        "\n",
        "print(f\"There are {len(loc_boxes)} locations.\")"
      ],
      "metadata": {
        "colab": {
          "base_uri": "https://localhost:8080/"
        },
        "id": "CYs3QET2tSat",
        "outputId": "d70bb7a3-7478-4059-a38b-67a95888005d"
      },
      "execution_count": 9,
      "outputs": [
        {
          "output_type": "stream",
          "name": "stdout",
          "text": [
            "There are 27 locations.\n"
          ]
        }
      ]
    },
    {
      "cell_type": "code",
      "source": [
        "# Removing clouds\n",
        "def maskS2clouds(image):\n",
        "  qa = image.select('QA60')\n",
        "\n",
        "  # Bits 10 and 11 are clouds and cirrus, respectively.\n",
        "  cloudBitMask = 1 << 10\n",
        "  cirrusBitMask = 1 << 11\n",
        "\n",
        "  # Both flags should be set to zero, indicating clear conditions.\n",
        "  mask = qa.bitwiseAnd(cloudBitMask).eq(0) \\\n",
        "      .And(qa.bitwiseAnd(cirrusBitMask).eq(0))\n",
        "\n",
        "  return image.updateMask(mask)\n",
        "\n",
        "# Set image resolution\n",
        "resolution = 10  # Sentinel-2 has a resolution of 10m for RGB bands\n",
        "\n",
        "# You can disable exporting to avoid re-generating satellite images again and again\n",
        "if not disable_export:\n",
        "    for rect in loc_boxes:\n",
        "        print(f\"Processing {rect[0]} location.\")\n",
        "\n",
        "        # Harmonized Sentinel-2 MSI: MultiSpectral Instrument, Level-2A\n",
        "        image = ee.ImageCollection('COPERNICUS/S2_SR_HARMONIZED') \\\n",
        "                          .filterDate('2023-05-01', '2023-09-30') \\\n",
        "                          .filterBounds(rect[1]) \\\n",
        "                          .filter(ee.Filter.lt('CLOUDY_PIXEL_PERCENTAGE', 20)) \\\n",
        "                          .map(maskS2clouds).select('B4', 'B3', 'B2', 'B8').median()\n",
        "\n",
        "        # Clip the image to the rectangle\n",
        "        image_rect = image.clip(rect[1])\n",
        "\n",
        "        # Define the export parameters\n",
        "        task_config = {\n",
        "            'image': image_rect,\n",
        "            'folder': f'Tmp_GEE_Boreal_V1_{final_patch_size}',\n",
        "            'description': f'{image_prefix}_{rect[0]}',\n",
        "            'scale': resolution,\n",
        "            'region': rect[1].getInfo()['coordinates'],\n",
        "            'maxPixels': 1e13\n",
        "        }\n",
        "\n",
        "        # Export the image to Google Drive\n",
        "        task = ee.batch.Export.image.toDrive(**task_config)\n",
        "        task.start()\n",
        "\n",
        "        # Monitor the task\n",
        "        while task.status()['state'] in ['READY', 'RUNNING']:\n",
        "            print(task.status())\n",
        "            time.sleep(15)\n",
        "        else:\n",
        "            print(task.status())"
      ],
      "metadata": {
        "colab": {
          "base_uri": "https://localhost:8080/"
        },
        "id": "6DXBBzjCB6py",
        "outputId": "d1da41f2-70a1-4d3e-9a53-33308794e897"
      },
      "execution_count": null,
      "outputs": [
        {
          "output_type": "stream",
          "name": "stdout",
          "text": [
            "Processing caribou-lake-710_1 location.\n",
            "{'state': 'READY', 'description': 'scars_caribou-lake-710_1', 'creation_timestamp_ms': 1688074355280, 'update_timestamp_ms': 1688074355280, 'start_timestamp_ms': 0, 'task_type': 'EXPORT_IMAGE', 'id': 'TXBT6W5SNJQ2IB6BO2MKK4E7', 'name': 'projects/earthengine-legacy/operations/TXBT6W5SNJQ2IB6BO2MKK4E7'}\n",
            "{'state': 'READY', 'description': 'scars_caribou-lake-710_1', 'creation_timestamp_ms': 1688074355280, 'update_timestamp_ms': 1688074355280, 'start_timestamp_ms': 0, 'task_type': 'EXPORT_IMAGE', 'id': 'TXBT6W5SNJQ2IB6BO2MKK4E7', 'name': 'projects/earthengine-legacy/operations/TXBT6W5SNJQ2IB6BO2MKK4E7'}\n",
            "{'state': 'RUNNING', 'description': 'scars_caribou-lake-710_1', 'creation_timestamp_ms': 1688074355280, 'update_timestamp_ms': 1688074373944, 'start_timestamp_ms': 1688074373869, 'task_type': 'EXPORT_IMAGE', 'attempt': 1, 'id': 'TXBT6W5SNJQ2IB6BO2MKK4E7', 'name': 'projects/earthengine-legacy/operations/TXBT6W5SNJQ2IB6BO2MKK4E7'}\n",
            "{'state': 'RUNNING', 'description': 'scars_caribou-lake-710_1', 'creation_timestamp_ms': 1688074355280, 'update_timestamp_ms': 1688074373944, 'start_timestamp_ms': 1688074373869, 'task_type': 'EXPORT_IMAGE', 'attempt': 1, 'id': 'TXBT6W5SNJQ2IB6BO2MKK4E7', 'name': 'projects/earthengine-legacy/operations/TXBT6W5SNJQ2IB6BO2MKK4E7'}\n",
            "{'state': 'COMPLETED', 'description': 'scars_caribou-lake-710_1', 'creation_timestamp_ms': 1688074355280, 'update_timestamp_ms': 1688074409672, 'start_timestamp_ms': 1688074373869, 'task_type': 'EXPORT_IMAGE', 'destination_uris': ['https://drive.google.com/#folders/1VpitYbrkzS1GBVZHx4jS5NJVkk26Lw4W'], 'attempt': 1, 'batch_eecu_usage_seconds': 10.604788780212402, 'id': 'TXBT6W5SNJQ2IB6BO2MKK4E7', 'name': 'projects/earthengine-legacy/operations/TXBT6W5SNJQ2IB6BO2MKK4E7'}\n",
            "Processing caribou-lake-710_2 location.\n",
            "{'state': 'READY', 'description': 'scars_caribou-lake-710_2', 'creation_timestamp_ms': 1688074423832, 'update_timestamp_ms': 1688074423832, 'start_timestamp_ms': 0, 'task_type': 'EXPORT_IMAGE', 'id': 'ZCMBCBUUTA3YVMX2M6JPCRBJ', 'name': 'projects/earthengine-legacy/operations/ZCMBCBUUTA3YVMX2M6JPCRBJ'}\n",
            "{'state': 'RUNNING', 'description': 'scars_caribou-lake-710_2', 'creation_timestamp_ms': 1688074423832, 'update_timestamp_ms': 1688074438208, 'start_timestamp_ms': 1688074435302, 'task_type': 'EXPORT_IMAGE', 'attempt': 1, 'id': 'ZCMBCBUUTA3YVMX2M6JPCRBJ', 'name': 'projects/earthengine-legacy/operations/ZCMBCBUUTA3YVMX2M6JPCRBJ'}\n",
            "{'state': 'COMPLETED', 'description': 'scars_caribou-lake-710_2', 'creation_timestamp_ms': 1688074423832, 'update_timestamp_ms': 1688074445496, 'start_timestamp_ms': 1688074435302, 'task_type': 'EXPORT_IMAGE', 'destination_uris': ['https://drive.google.com/#folders/1VpitYbrkzS1GBVZHx4jS5NJVkk26Lw4W'], 'attempt': 1, 'batch_eecu_usage_seconds': 18.118953704833984, 'id': 'ZCMBCBUUTA3YVMX2M6JPCRBJ', 'name': 'projects/earthengine-legacy/operations/ZCMBCBUUTA3YVMX2M6JPCRBJ'}\n",
            "Processing caribou-lake-708_1 location.\n",
            "{'state': 'READY', 'description': 'scars_caribou-lake-708_1', 'creation_timestamp_ms': 1688074459679, 'update_timestamp_ms': 1688074459679, 'start_timestamp_ms': 0, 'task_type': 'EXPORT_IMAGE', 'id': 'JI2LBXR5YJET5MEG7EASCZKD', 'name': 'projects/earthengine-legacy/operations/JI2LBXR5YJET5MEG7EASCZKD'}\n",
            "{'state': 'RUNNING', 'description': 'scars_caribou-lake-708_1', 'creation_timestamp_ms': 1688074459679, 'update_timestamp_ms': 1688074476026, 'start_timestamp_ms': 1688074475949, 'task_type': 'EXPORT_IMAGE', 'attempt': 1, 'id': 'JI2LBXR5YJET5MEG7EASCZKD', 'name': 'projects/earthengine-legacy/operations/JI2LBXR5YJET5MEG7EASCZKD'}\n",
            "{'state': 'COMPLETED', 'description': 'scars_caribou-lake-708_1', 'creation_timestamp_ms': 1688074459679, 'update_timestamp_ms': 1688074488798, 'start_timestamp_ms': 1688074475949, 'task_type': 'EXPORT_IMAGE', 'destination_uris': ['https://drive.google.com/#folders/1VpitYbrkzS1GBVZHx4jS5NJVkk26Lw4W'], 'attempt': 1, 'batch_eecu_usage_seconds': 19.648426055908203, 'id': 'JI2LBXR5YJET5MEG7EASCZKD', 'name': 'projects/earthengine-legacy/operations/JI2LBXR5YJET5MEG7EASCZKD'}\n",
            "Processing caribou-lake-701_1 location.\n",
            "{'state': 'READY', 'description': 'scars_caribou-lake-701_1', 'creation_timestamp_ms': 1688074495629, 'update_timestamp_ms': 1688074495629, 'start_timestamp_ms': 0, 'task_type': 'EXPORT_IMAGE', 'id': 'VMF7LDVZGI3KYKZYQA5WLQ57', 'name': 'projects/earthengine-legacy/operations/VMF7LDVZGI3KYKZYQA5WLQ57'}\n",
            "{'state': 'RUNNING', 'description': 'scars_caribou-lake-701_1', 'creation_timestamp_ms': 1688074495629, 'update_timestamp_ms': 1688074508689, 'start_timestamp_ms': 1688074506179, 'task_type': 'EXPORT_IMAGE', 'attempt': 1, 'id': 'VMF7LDVZGI3KYKZYQA5WLQ57', 'name': 'projects/earthengine-legacy/operations/VMF7LDVZGI3KYKZYQA5WLQ57'}\n",
            "{'state': 'COMPLETED', 'description': 'scars_caribou-lake-701_1', 'creation_timestamp_ms': 1688074495629, 'update_timestamp_ms': 1688074515405, 'start_timestamp_ms': 1688074506179, 'task_type': 'EXPORT_IMAGE', 'destination_uris': ['https://drive.google.com/#folders/1VpitYbrkzS1GBVZHx4jS5NJVkk26Lw4W'], 'attempt': 1, 'batch_eecu_usage_seconds': 10.80369758605957, 'id': 'VMF7LDVZGI3KYKZYQA5WLQ57', 'name': 'projects/earthengine-legacy/operations/VMF7LDVZGI3KYKZYQA5WLQ57'}\n",
            "Processing caribou-lake-702_1 location.\n",
            "{'state': 'READY', 'description': 'scars_caribou-lake-702_1', 'creation_timestamp_ms': 1688074530800, 'update_timestamp_ms': 1688074530800, 'start_timestamp_ms': 0, 'task_type': 'EXPORT_IMAGE', 'id': '22RPLGX4ETFULCCDHDBDYWW2', 'name': 'projects/earthengine-legacy/operations/22RPLGX4ETFULCCDHDBDYWW2'}\n",
            "{'state': 'RUNNING', 'description': 'scars_caribou-lake-702_1', 'creation_timestamp_ms': 1688074530800, 'update_timestamp_ms': 1688074546590, 'start_timestamp_ms': 1688074546514, 'task_type': 'EXPORT_IMAGE', 'attempt': 1, 'id': '22RPLGX4ETFULCCDHDBDYWW2', 'name': 'projects/earthengine-legacy/operations/22RPLGX4ETFULCCDHDBDYWW2'}\n",
            "{'state': 'RUNNING', 'description': 'scars_caribou-lake-702_1', 'creation_timestamp_ms': 1688074530800, 'update_timestamp_ms': 1688074561324, 'start_timestamp_ms': 1688074546514, 'task_type': 'EXPORT_IMAGE', 'attempt': 1, 'id': '22RPLGX4ETFULCCDHDBDYWW2', 'name': 'projects/earthengine-legacy/operations/22RPLGX4ETFULCCDHDBDYWW2'}\n",
            "{'state': 'COMPLETED', 'description': 'scars_caribou-lake-702_1', 'creation_timestamp_ms': 1688074530800, 'update_timestamp_ms': 1688074569234, 'start_timestamp_ms': 1688074546514, 'task_type': 'EXPORT_IMAGE', 'destination_uris': ['https://drive.google.com/#folders/1VpitYbrkzS1GBVZHx4jS5NJVkk26Lw4W'], 'attempt': 1, 'batch_eecu_usage_seconds': 11.90666389465332, 'id': '22RPLGX4ETFULCCDHDBDYWW2', 'name': 'projects/earthengine-legacy/operations/22RPLGX4ETFULCCDHDBDYWW2'}\n",
            "Processing gibson-502_1 location.\n",
            "{'state': 'READY', 'description': 'scars_gibson-502_1', 'creation_timestamp_ms': 1688074583200, 'update_timestamp_ms': 1688074583200, 'start_timestamp_ms': 0, 'task_type': 'EXPORT_IMAGE', 'id': 'LGQFZEWDL473M7JH2RJGMT3S', 'name': 'projects/earthengine-legacy/operations/LGQFZEWDL473M7JH2RJGMT3S'}\n",
            "{'state': 'RUNNING', 'description': 'scars_gibson-502_1', 'creation_timestamp_ms': 1688074583200, 'update_timestamp_ms': 1688074600756, 'start_timestamp_ms': 1688074597180, 'task_type': 'EXPORT_IMAGE', 'attempt': 1, 'id': 'LGQFZEWDL473M7JH2RJGMT3S', 'name': 'projects/earthengine-legacy/operations/LGQFZEWDL473M7JH2RJGMT3S'}\n",
            "{'state': 'COMPLETED', 'description': 'scars_gibson-502_1', 'creation_timestamp_ms': 1688074583200, 'update_timestamp_ms': 1688074613456, 'start_timestamp_ms': 1688074597180, 'task_type': 'EXPORT_IMAGE', 'destination_uris': ['https://drive.google.com/#folders/1VpitYbrkzS1GBVZHx4jS5NJVkk26Lw4W'], 'attempt': 1, 'batch_eecu_usage_seconds': 2.3793370723724365, 'id': 'LGQFZEWDL473M7JH2RJGMT3S', 'name': 'projects/earthengine-legacy/operations/LGQFZEWDL473M7JH2RJGMT3S'}\n",
            "Processing hillside360_1 location.\n",
            "{'state': 'READY', 'description': 'scars_hillside360_1', 'creation_timestamp_ms': 1688074618547, 'update_timestamp_ms': 1688074618547, 'start_timestamp_ms': 0, 'task_type': 'EXPORT_IMAGE', 'id': '7YTTGSBS3MIBEDQKBGAMB2NM', 'name': 'projects/earthengine-legacy/operations/7YTTGSBS3MIBEDQKBGAMB2NM'}\n",
            "{'state': 'READY', 'description': 'scars_hillside360_1', 'creation_timestamp_ms': 1688074618547, 'update_timestamp_ms': 1688074618547, 'start_timestamp_ms': 0, 'task_type': 'EXPORT_IMAGE', 'id': '7YTTGSBS3MIBEDQKBGAMB2NM', 'name': 'projects/earthengine-legacy/operations/7YTTGSBS3MIBEDQKBGAMB2NM'}\n",
            "{'state': 'COMPLETED', 'description': 'scars_hillside360_1', 'creation_timestamp_ms': 1688074618547, 'update_timestamp_ms': 1688074646610, 'start_timestamp_ms': 1688074637506, 'task_type': 'EXPORT_IMAGE', 'destination_uris': ['https://drive.google.com/#folders/1VpitYbrkzS1GBVZHx4jS5NJVkk26Lw4W'], 'attempt': 1, 'batch_eecu_usage_seconds': 7.232128620147705, 'id': '7YTTGSBS3MIBEDQKBGAMB2NM', 'name': 'projects/earthengine-legacy/operations/7YTTGSBS3MIBEDQKBGAMB2NM'}\n",
            "Processing hillside360_2 location.\n",
            "{'state': 'READY', 'description': 'scars_hillside360_2', 'creation_timestamp_ms': 1688074653875, 'update_timestamp_ms': 1688074653875, 'start_timestamp_ms': 0, 'task_type': 'EXPORT_IMAGE', 'id': 'NBS2DKS4RC3RDGPPMRQCPZVN', 'name': 'projects/earthengine-legacy/operations/NBS2DKS4RC3RDGPPMRQCPZVN'}\n",
            "{'state': 'RUNNING', 'description': 'scars_hillside360_2', 'creation_timestamp_ms': 1688074653875, 'update_timestamp_ms': 1688074669593, 'start_timestamp_ms': 1688074669515, 'task_type': 'EXPORT_IMAGE', 'attempt': 1, 'id': 'NBS2DKS4RC3RDGPPMRQCPZVN', 'name': 'projects/earthengine-legacy/operations/NBS2DKS4RC3RDGPPMRQCPZVN'}\n",
            "{'state': 'COMPLETED', 'description': 'scars_hillside360_2', 'creation_timestamp_ms': 1688074653875, 'update_timestamp_ms': 1688074677445, 'start_timestamp_ms': 1688074669515, 'task_type': 'EXPORT_IMAGE', 'destination_uris': ['https://drive.google.com/#folders/1VpitYbrkzS1GBVZHx4jS5NJVkk26Lw4W'], 'attempt': 1, 'batch_eecu_usage_seconds': 4.292263984680176, 'id': 'NBS2DKS4RC3RDGPPMRQCPZVN', 'name': 'projects/earthengine-legacy/operations/NBS2DKS4RC3RDGPPMRQCPZVN'}\n",
            "Processing hillside360_3 location.\n",
            "{'state': 'READY', 'description': 'scars_hillside360_3', 'creation_timestamp_ms': 1688074689215, 'update_timestamp_ms': 1688074689215, 'start_timestamp_ms': 0, 'task_type': 'EXPORT_IMAGE', 'id': 'EJUSXB7AT64ZEGBWZ3X4WQAI', 'name': 'projects/earthengine-legacy/operations/EJUSXB7AT64ZEGBWZ3X4WQAI'}\n",
            "{'state': 'RUNNING', 'description': 'scars_hillside360_3', 'creation_timestamp_ms': 1688074689215, 'update_timestamp_ms': 1688074702513, 'start_timestamp_ms': 1688074699844, 'task_type': 'EXPORT_IMAGE', 'attempt': 1, 'id': 'EJUSXB7AT64ZEGBWZ3X4WQAI', 'name': 'projects/earthengine-legacy/operations/EJUSXB7AT64ZEGBWZ3X4WQAI'}\n",
            "{'state': 'COMPLETED', 'description': 'scars_hillside360_3', 'creation_timestamp_ms': 1688074689215, 'update_timestamp_ms': 1688074710420, 'start_timestamp_ms': 1688074699844, 'task_type': 'EXPORT_IMAGE', 'destination_uris': ['https://drive.google.com/#folders/1VpitYbrkzS1GBVZHx4jS5NJVkk26Lw4W'], 'attempt': 1, 'batch_eecu_usage_seconds': 5.9248151779174805, 'id': 'EJUSXB7AT64ZEGBWZ3X4WQAI', 'name': 'projects/earthengine-legacy/operations/EJUSXB7AT64ZEGBWZ3X4WQAI'}\n",
            "Processing hillside360_4 location.\n",
            "{'state': 'READY', 'description': 'scars_hillside360_4', 'creation_timestamp_ms': 1688074724513, 'update_timestamp_ms': 1688074724513, 'start_timestamp_ms': 0, 'task_type': 'EXPORT_IMAGE', 'id': 'XLPADHDL2DH4YN4M7QBILYWH', 'name': 'projects/earthengine-legacy/operations/XLPADHDL2DH4YN4M7QBILYWH'}\n",
            "{'state': 'RUNNING', 'description': 'scars_hillside360_4', 'creation_timestamp_ms': 1688074724513, 'update_timestamp_ms': 1688074740809, 'start_timestamp_ms': 1688074740730, 'task_type': 'EXPORT_IMAGE', 'attempt': 1, 'id': 'XLPADHDL2DH4YN4M7QBILYWH', 'name': 'projects/earthengine-legacy/operations/XLPADHDL2DH4YN4M7QBILYWH'}\n",
            "{'state': 'COMPLETED', 'description': 'scars_hillside360_4', 'creation_timestamp_ms': 1688074724513, 'update_timestamp_ms': 1688074755316, 'start_timestamp_ms': 1688074740730, 'task_type': 'EXPORT_IMAGE', 'destination_uris': ['https://drive.google.com/#folders/1VpitYbrkzS1GBVZHx4jS5NJVkk26Lw4W'], 'attempt': 1, 'batch_eecu_usage_seconds': 4.522678375244141, 'id': 'XLPADHDL2DH4YN4M7QBILYWH', 'name': 'projects/earthengine-legacy/operations/XLPADHDL2DH4YN4M7QBILYWH'}\n",
            "Processing hwy6424XX_1 location.\n",
            "{'state': 'READY', 'description': 'scars_hwy6424XX_1', 'creation_timestamp_ms': 1688074765883, 'update_timestamp_ms': 1688074765883, 'start_timestamp_ms': 0, 'task_type': 'EXPORT_IMAGE', 'id': 'VQKZZK56DDYZ6CTDYSCZKVUA', 'name': 'projects/earthengine-legacy/operations/VQKZZK56DDYZ6CTDYSCZKVUA'}\n",
            "{'state': 'READY', 'description': 'scars_hwy6424XX_1', 'creation_timestamp_ms': 1688074765883, 'update_timestamp_ms': 1688074765883, 'start_timestamp_ms': 0, 'task_type': 'EXPORT_IMAGE', 'id': 'VQKZZK56DDYZ6CTDYSCZKVUA', 'name': 'projects/earthengine-legacy/operations/VQKZZK56DDYZ6CTDYSCZKVUA'}\n",
            "{'state': 'RUNNING', 'description': 'scars_hwy6424XX_1', 'creation_timestamp_ms': 1688074765883, 'update_timestamp_ms': 1688074789586, 'start_timestamp_ms': 1688074786355, 'task_type': 'EXPORT_IMAGE', 'attempt': 1, 'id': 'VQKZZK56DDYZ6CTDYSCZKVUA', 'name': 'projects/earthengine-legacy/operations/VQKZZK56DDYZ6CTDYSCZKVUA'}\n",
            "{'state': 'COMPLETED', 'description': 'scars_hwy6424XX_1', 'creation_timestamp_ms': 1688074765883, 'update_timestamp_ms': 1688074801182, 'start_timestamp_ms': 1688074786355, 'task_type': 'EXPORT_IMAGE', 'destination_uris': ['https://drive.google.com/#folders/1VpitYbrkzS1GBVZHx4jS5NJVkk26Lw4W'], 'attempt': 1, 'batch_eecu_usage_seconds': 5.736292839050293, 'id': 'VQKZZK56DDYZ6CTDYSCZKVUA', 'name': 'projects/earthengine-legacy/operations/VQKZZK56DDYZ6CTDYSCZKVUA'}\n",
            "Processing hwy6424XX_2 location.\n",
            "{'state': 'READY', 'description': 'scars_hwy6424XX_2', 'creation_timestamp_ms': 1688074816491, 'update_timestamp_ms': 1688074816491, 'start_timestamp_ms': 0, 'task_type': 'EXPORT_IMAGE', 'id': 'KSLHHGC5H33MY6YEDY4PUXGG', 'name': 'projects/earthengine-legacy/operations/KSLHHGC5H33MY6YEDY4PUXGG'}\n"
          ]
        }
      ]
    },
    {
      "cell_type": "markdown",
      "source": [
        "# Generate Dataset\n",
        "After converting it to a binary mask, we put together the satellite image and the labeled data in geojson format."
      ],
      "metadata": {
        "id": "OjtP_MgjpCvj"
      }
    },
    {
      "cell_type": "code",
      "source": [
        "geojson_dir = '/content/geojsons/'\n",
        "patch_remote_dir = f\"/content/drive/MyDrive/Tmp_GEE_Boreal_V1_{final_patch_size}/\"\n",
        "patch_dir = f\"/content/Tmp_GEE_Boreal_V1_{final_patch_size}/\"\n",
        "dataset_dir = \"/content/dataset/\"\n",
        "dataset_image_dir = f\"{dataset_dir}image/\"\n",
        "dataset_mask_dir = f\"{dataset_dir}mask/\"\n",
        "\n",
        "!rm -rf {patch_dir}\n",
        "!rm -rf {dataset_dir}\n",
        "\n",
        "!cp -rn {patch_remote_dir} .\n",
        "\n",
        "!mkdir -p {dataset_dir}\n",
        "!mkdir -p {dataset_image_dir}\n",
        "!mkdir -p {dataset_mask_dir}\n",
        "\n",
        "# Reading the GeoJSON file for masks\n",
        "data_files, polygons = [], []\n",
        "for subdir, dirs, files in os.walk(geojson_dir):\n",
        "    for f in files:\n",
        "        if isfile(join(subdir, f)) and '.geojson' in f:\n",
        "            data_files.append(join(subdir, f))\n",
        "            gdf = gpd.read_file(join(subdir, f))\n",
        "            for idx, row in gdf.iterrows():\n",
        "                polygons.append(row.geometry)\n",
        "\n",
        "# Generating a mask for each patch\n",
        "for loc_box in loc_boxes:\n",
        "    file_path = f'{patch_dir}{image_prefix}_{loc_box[0]}.tif'\n",
        "\n",
        "    # Load GeoTIFF file\n",
        "    with rasterio.open(file_path) as src:\n",
        "        if loc_box[2] == 315:\n",
        "            window = Window(src.width-final_patch_size, src.height-final_patch_size, final_patch_size, final_patch_size) # Takes bottom right\n",
        "        elif loc_box[2] == 225:\n",
        "            window = Window(src.width-final_patch_size, 0, final_patch_size, final_patch_size) # Takes top right\n",
        "        elif loc_box[2] == 45:\n",
        "            window = Window(0, src.height-final_patch_size, final_patch_size, final_patch_size) # Takes top right\n",
        "        elif loc_box[2] == 135:\n",
        "            window = Window(0, 0, final_patch_size, final_patch_size) # Takes top right\n",
        "        else:\n",
        "            print(\"Bearing is not recognized!\")\n",
        "        subset = src.read(window=window)\n",
        "        kwargs = src.meta.copy()\n",
        "        kwargs.update({\n",
        "            'height': window.height,\n",
        "            'width': window.width,\n",
        "            'transform': src.window_transform(window)\n",
        "        })\n",
        "\n",
        "        # Saving the resized version of image\n",
        "        file_name = os.path.basename(file_path)\n",
        "        with rasterio.open(f\"{dataset_image_dir}{file_name}\", \"w\", **kwargs) as dst:\n",
        "            dst.write(subset)\n",
        "\n",
        "        # Create the mask\n",
        "        mask = geometry_mask(polygons, transform=dst.transform, out_shape=(window.height, window.width), all_touched = True, invert=True)\n",
        "\n",
        "        # Prepare the metadata for the mask file.\n",
        "        mask_meta = dst.meta.copy()\n",
        "        mask_meta.update({\n",
        "            'dtype': 'uint8',\n",
        "            'count': 1,\n",
        "        })\n",
        "\n",
        "        # Save the mask to a GeoTIFF file.\n",
        "        with rasterio.open(f\"{dataset_mask_dir}{file_name}\", 'w', **mask_meta) as mask_dst:\n",
        "            mask_dst.write(mask.astype(rasterio.uint8), 1)"
      ],
      "metadata": {
        "id": "TgGbnAwPx70n"
      },
      "execution_count": null,
      "outputs": []
    },
    {
      "cell_type": "markdown",
      "source": [
        "# Dataset View\n",
        "A demonstration of what the generated dataset looks like."
      ],
      "metadata": {
        "id": "IUhUSijGo2Z-"
      }
    },
    {
      "cell_type": "code",
      "source": [
        "def loadTiff(in_image, max=-1):\n",
        "    src = gdal.Open(in_image)\n",
        "    nbands = src.RasterCount\n",
        "    in_band = src.GetRasterBand(1)\n",
        "    xinit, yinit = (0, 0)\n",
        "    block_xsize, block_ysize = (in_band.XSize, in_band.YSize)\n",
        "    # read the (multiband) file into an array\n",
        "    image = src.ReadAsArray(xinit, yinit, block_xsize, block_ysize)\n",
        "    if max != -1:\n",
        "        for i in range(nbands):\n",
        "          image[i] = np.clip(image[i]/max, 0, 1)\n",
        "        # reshape from bandsxheightxwidth to wxhxb\n",
        "        image = np.moveaxis(image, 0, -1)\n",
        "    return image, block_ysize, block_xsize, nbands"
      ],
      "metadata": {
        "id": "ghmRVCcR0Lya"
      },
      "execution_count": null,
      "outputs": []
    },
    {
      "cell_type": "code",
      "source": [
        "# Reading the patches\n",
        "patch_image_dir = f'/content/dataset/image/'\n",
        "patch_mask_dir = f'/content/dataset/mask/'\n",
        "\n",
        "tiles = []\n",
        "for subdir, dirs, files in os.walk(patch_image_dir):\n",
        "    for f in files:\n",
        "        if isfile(join(patch_image_dir, f)) and '.tif' in f:\n",
        "            tiles.append([join(patch_image_dir, f), join(patch_mask_dir, f)])\n",
        "\n",
        "count = 0\n",
        "for t in tiles:\n",
        "    with rasterio.open(t[1]) as src:\n",
        "        mask = src.read(1)\n",
        "\n",
        "    fig, ax = plt.subplots(1, 2, figsize=(16, 15))\n",
        "    [img, xsize, ysize, nbands] = loadTiff(t[0], 2000)\n",
        "    img_rgb = np.dstack((img[:,:,0], img[:,:,1], img[:,:,2]))\n",
        "    # Create a red color overlay using the mask\n",
        "    overlay = np.zeros((img_rgb.shape[0], img_rgb.shape[1], 4))  # 4 for RGBA\n",
        "    overlay[..., 0] = 1  # Red channel\n",
        "    overlay[..., 3] = mask\n",
        "\n",
        "    mask_file_name = os.path.basename(t[0]).split('_')[1]\n",
        "\n",
        "    # Display the original image and the masked image\n",
        "    ax[0].imshow(img_rgb)\n",
        "    ax[0].set_title(f'Original Patch - {mask_file_name}')\n",
        "    ax[0].axis('off')\n",
        "\n",
        "    ax[1].imshow(img_rgb, cmap='gray')\n",
        "    ax[1].imshow(overlay)\n",
        "    ax[1].set_title(f'Labeled Patch - Mask sum: {mask.sum():,}')\n",
        "    ax[1].axis('off')\n",
        "\n",
        "    plt.show()"
      ],
      "metadata": {
        "id": "Q8WtHd8z9xrx"
      },
      "execution_count": null,
      "outputs": []
    },
    {
      "cell_type": "markdown",
      "source": [
        "## Upload Dataset\n",
        "Moving the generated dataset to a Google Drive for next steps like EDA and model building."
      ],
      "metadata": {
        "id": "jBlkrfHJAz4B"
      }
    },
    {
      "cell_type": "code",
      "source": [
        "# Change the destination directory name\n",
        "remote_destination_dir = f'/content/drive/MyDrive/GreenGuardians/data/dataset/logging_scars_V1_{final_patch_size}'\n",
        "!mkdir -p {remote_destination_dir}\n",
        "!cp -rn {dataset_dir}/* {remote_destination_dir}"
      ],
      "metadata": {
        "id": "l979P6aj0XVI"
      },
      "execution_count": 15,
      "outputs": []
    },
    {
      "cell_type": "code",
      "source": [],
      "metadata": {
        "id": "9EPWB3gVLBuv"
      },
      "execution_count": null,
      "outputs": []
    }
  ]
}